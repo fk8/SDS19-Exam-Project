{
 "cells": [
  {
   "cell_type": "code",
   "execution_count": 30,
   "metadata": {},
   "outputs": [],
   "source": [
    "import requests,os,time\n",
    "from tqdm import tqdm_notebook as tqdm\n",
    "import json\n",
    "import pandas as pd\n",
    "import numpy as np\n",
    "import matplotlib.pyplot as plt\n",
    "%matplotlib inline\n",
    "import seaborn as sns\n",
    "import datetime\n",
    "from tqdm import tqdm_notebook as tqdm"
   ]
  },
  {
   "cell_type": "code",
   "execution_count": 59,
   "metadata": {},
   "outputs": [
    {
     "name": "stderr",
     "output_type": "stream",
     "text": [
      "C:\\Users\\Frederik\\Anaconda3\\lib\\site-packages\\IPython\\core\\interactiveshell.py:2728: DtypeWarning: Columns (8,11,13) have mixed types. Specify dtype option on import or set low_memory=False.\n",
      "  interactivity=interactivity, compiler=compiler, result=result)\n"
     ]
    }
   ],
   "source": [
    "# Data = pd.read_csv('https://github.com/mathiasbruun/SDS19-Exam-Project/blob/master/Data_2018_csv.zip')\n",
    "url = 'https://github.com/mathiasbruun/SDS19-Exam-Project/raw/master/Data_2018_csv.zip'\n",
    "Data = pd.read_csv(url, compression='zip')"
   ]
  },
  {
   "cell_type": "code",
   "execution_count": 81,
   "metadata": {},
   "outputs": [],
   "source": [
    "plt.style.use('ggplot')\n",
    "%matplotlib inline\n",
    "\n",
    "SMALL_SIZE = 16\n",
    "MEDIUM_SIZE = 18\n",
    "BIGGER_SIZE = 20\n",
    "\n",
    "plt.rc('font', size=SMALL_SIZE)          # controls default text sizes\n",
    "plt.rc('axes', titlesize=SMALL_SIZE)     # fontsize of the axes title\n",
    "plt.rc('axes', labelsize=MEDIUM_SIZE)    # fontsize of the x and y labels\n",
    "plt.rc('xtick', labelsize=SMALL_SIZE)    # fontsize of the tick labels\n",
    "plt.rc('ytick', labelsize=SMALL_SIZE)    # fontsize of the tick labels\n",
    "plt.rc('legend', fontsize=SMALL_SIZE)    # legend fontsize\n",
    "plt.rc('figure', titlesize=BIGGER_SIZE)  # fontsize of the figure title"
   ]
  },
  {
   "cell_type": "code",
   "execution_count": 61,
   "metadata": {},
   "outputs": [
    {
     "data": {
      "text/plain": [
       "Index(['age_range', 'datetime', 'gender', 'involved_person', 'legislation',\n",
       "       'location', 'object_of_search', 'officer_defined_ethnicity',\n",
       "       'operation', 'operation_name', 'outcome',\n",
       "       'outcome_linked_to_object_of_search', 'outcome_object',\n",
       "       'removal_of_more_than_outer_clothing', 'self_defined_ethnicity', 'type',\n",
       "       'Force'],\n",
       "      dtype='object')"
      ]
     },
     "execution_count": 61,
     "metadata": {},
     "output_type": "execute_result"
    }
   ],
   "source": [
    "Data.columns"
   ]
  },
  {
   "cell_type": "code",
   "execution_count": 62,
   "metadata": {},
   "outputs": [
    {
     "data": {
      "text/html": [
       "<div>\n",
       "<style scoped>\n",
       "    .dataframe tbody tr th:only-of-type {\n",
       "        vertical-align: middle;\n",
       "    }\n",
       "\n",
       "    .dataframe tbody tr th {\n",
       "        vertical-align: top;\n",
       "    }\n",
       "\n",
       "    .dataframe thead th {\n",
       "        text-align: right;\n",
       "    }\n",
       "</style>\n",
       "<table border=\"1\" class=\"dataframe\">\n",
       "  <thead>\n",
       "    <tr style=\"text-align: right;\">\n",
       "      <th></th>\n",
       "      <th>age_range</th>\n",
       "      <th>gender</th>\n",
       "      <th>involved_person</th>\n",
       "      <th>legislation</th>\n",
       "      <th>location</th>\n",
       "      <th>object_of_search</th>\n",
       "      <th>officer_defined_ethnicity</th>\n",
       "      <th>operation</th>\n",
       "      <th>operation_name</th>\n",
       "      <th>outcome</th>\n",
       "      <th>outcome_linked_to_object_of_search</th>\n",
       "      <th>outcome_object</th>\n",
       "      <th>removal_of_more_than_outer_clothing</th>\n",
       "      <th>self_defined_ethnicity</th>\n",
       "      <th>type</th>\n",
       "      <th>Force</th>\n",
       "    </tr>\n",
       "    <tr>\n",
       "      <th>datetime</th>\n",
       "      <th></th>\n",
       "      <th></th>\n",
       "      <th></th>\n",
       "      <th></th>\n",
       "      <th></th>\n",
       "      <th></th>\n",
       "      <th></th>\n",
       "      <th></th>\n",
       "      <th></th>\n",
       "      <th></th>\n",
       "      <th></th>\n",
       "      <th></th>\n",
       "      <th></th>\n",
       "      <th></th>\n",
       "      <th></th>\n",
       "      <th></th>\n",
       "    </tr>\n",
       "  </thead>\n",
       "  <tbody>\n",
       "    <tr>\n",
       "      <th>2018-01-14 02:01:06+00:00</th>\n",
       "      <td>25-34</td>\n",
       "      <td>Male</td>\n",
       "      <td>True</td>\n",
       "      <td>Misuse of Drugs Act 1971 (section 23)</td>\n",
       "      <td>NaN</td>\n",
       "      <td>Controlled drugs</td>\n",
       "      <td>Other</td>\n",
       "      <td>NaN</td>\n",
       "      <td>NaN</td>\n",
       "      <td>False</td>\n",
       "      <td>NaN</td>\n",
       "      <td>{'id': 'nothing', 'name': 'Nothing found - No ...</td>\n",
       "      <td>False</td>\n",
       "      <td>NaN</td>\n",
       "      <td>Person search</td>\n",
       "      <td>avon-and-somerset</td>\n",
       "    </tr>\n",
       "    <tr>\n",
       "      <th>2018-01-04 16:12:02+00:00</th>\n",
       "      <td>25-34</td>\n",
       "      <td>Male</td>\n",
       "      <td>True</td>\n",
       "      <td>Misuse of Drugs Act 1971 (section 23)</td>\n",
       "      <td>{'latitude': '51.015226', 'street': {'id': 530...</td>\n",
       "      <td>Controlled drugs</td>\n",
       "      <td>White</td>\n",
       "      <td>NaN</td>\n",
       "      <td>NaN</td>\n",
       "      <td>NaN</td>\n",
       "      <td>NaN</td>\n",
       "      <td>{'id': '', 'name': ''}</td>\n",
       "      <td>False</td>\n",
       "      <td>NaN</td>\n",
       "      <td>Person search</td>\n",
       "      <td>avon-and-somerset</td>\n",
       "    </tr>\n",
       "    <tr>\n",
       "      <th>2018-01-04 23:23:30+00:00</th>\n",
       "      <td>18-24</td>\n",
       "      <td>Female</td>\n",
       "      <td>True</td>\n",
       "      <td>Misuse of Drugs Act 1971 (section 23)</td>\n",
       "      <td>{'latitude': '51.458913', 'street': {'id': 543...</td>\n",
       "      <td>Controlled drugs</td>\n",
       "      <td>White</td>\n",
       "      <td>NaN</td>\n",
       "      <td>NaN</td>\n",
       "      <td>False</td>\n",
       "      <td>NaN</td>\n",
       "      <td>{'id': 'nothing', 'name': 'Nothing found - No ...</td>\n",
       "      <td>False</td>\n",
       "      <td>White - English/Welsh/Scottish/Northern Irish/...</td>\n",
       "      <td>Person search</td>\n",
       "      <td>avon-and-somerset</td>\n",
       "    </tr>\n",
       "    <tr>\n",
       "      <th>2018-01-04 23:23:30+00:00</th>\n",
       "      <td>10-17</td>\n",
       "      <td>Male</td>\n",
       "      <td>True</td>\n",
       "      <td>Misuse of Drugs Act 1971 (section 23)</td>\n",
       "      <td>{'latitude': '51.458913', 'street': {'id': 543...</td>\n",
       "      <td>Controlled drugs</td>\n",
       "      <td>Black</td>\n",
       "      <td>NaN</td>\n",
       "      <td>NaN</td>\n",
       "      <td>False</td>\n",
       "      <td>NaN</td>\n",
       "      <td>{'id': 'nothing', 'name': 'Nothing found - No ...</td>\n",
       "      <td>False</td>\n",
       "      <td>NaN</td>\n",
       "      <td>Person search</td>\n",
       "      <td>avon-and-somerset</td>\n",
       "    </tr>\n",
       "    <tr>\n",
       "      <th>2018-01-05 00:26:23+00:00</th>\n",
       "      <td>10-17</td>\n",
       "      <td>Male</td>\n",
       "      <td>True</td>\n",
       "      <td>Misuse of Drugs Act 1971 (section 23)</td>\n",
       "      <td>NaN</td>\n",
       "      <td>Controlled drugs</td>\n",
       "      <td>White</td>\n",
       "      <td>NaN</td>\n",
       "      <td>NaN</td>\n",
       "      <td>False</td>\n",
       "      <td>NaN</td>\n",
       "      <td>{'id': 'nothing', 'name': 'Nothing found - No ...</td>\n",
       "      <td>False</td>\n",
       "      <td>Other ethnic group - Any other ethnic group</td>\n",
       "      <td>Person search</td>\n",
       "      <td>avon-and-somerset</td>\n",
       "    </tr>\n",
       "  </tbody>\n",
       "</table>\n",
       "</div>"
      ],
      "text/plain": [
       "                          age_range  gender  involved_person  \\\n",
       "datetime                                                       \n",
       "2018-01-14 02:01:06+00:00     25-34    Male             True   \n",
       "2018-01-04 16:12:02+00:00     25-34    Male             True   \n",
       "2018-01-04 23:23:30+00:00     18-24  Female             True   \n",
       "2018-01-04 23:23:30+00:00     10-17    Male             True   \n",
       "2018-01-05 00:26:23+00:00     10-17    Male             True   \n",
       "\n",
       "                                                     legislation  \\\n",
       "datetime                                                           \n",
       "2018-01-14 02:01:06+00:00  Misuse of Drugs Act 1971 (section 23)   \n",
       "2018-01-04 16:12:02+00:00  Misuse of Drugs Act 1971 (section 23)   \n",
       "2018-01-04 23:23:30+00:00  Misuse of Drugs Act 1971 (section 23)   \n",
       "2018-01-04 23:23:30+00:00  Misuse of Drugs Act 1971 (section 23)   \n",
       "2018-01-05 00:26:23+00:00  Misuse of Drugs Act 1971 (section 23)   \n",
       "\n",
       "                                                                    location  \\\n",
       "datetime                                                                       \n",
       "2018-01-14 02:01:06+00:00                                                NaN   \n",
       "2018-01-04 16:12:02+00:00  {'latitude': '51.015226', 'street': {'id': 530...   \n",
       "2018-01-04 23:23:30+00:00  {'latitude': '51.458913', 'street': {'id': 543...   \n",
       "2018-01-04 23:23:30+00:00  {'latitude': '51.458913', 'street': {'id': 543...   \n",
       "2018-01-05 00:26:23+00:00                                                NaN   \n",
       "\n",
       "                           object_of_search officer_defined_ethnicity  \\\n",
       "datetime                                                                \n",
       "2018-01-14 02:01:06+00:00  Controlled drugs                     Other   \n",
       "2018-01-04 16:12:02+00:00  Controlled drugs                     White   \n",
       "2018-01-04 23:23:30+00:00  Controlled drugs                     White   \n",
       "2018-01-04 23:23:30+00:00  Controlled drugs                     Black   \n",
       "2018-01-05 00:26:23+00:00  Controlled drugs                     White   \n",
       "\n",
       "                          operation  operation_name outcome  \\\n",
       "datetime                                                      \n",
       "2018-01-14 02:01:06+00:00       NaN             NaN   False   \n",
       "2018-01-04 16:12:02+00:00       NaN             NaN     NaN   \n",
       "2018-01-04 23:23:30+00:00       NaN             NaN   False   \n",
       "2018-01-04 23:23:30+00:00       NaN             NaN   False   \n",
       "2018-01-05 00:26:23+00:00       NaN             NaN   False   \n",
       "\n",
       "                          outcome_linked_to_object_of_search  \\\n",
       "datetime                                                       \n",
       "2018-01-14 02:01:06+00:00                                NaN   \n",
       "2018-01-04 16:12:02+00:00                                NaN   \n",
       "2018-01-04 23:23:30+00:00                                NaN   \n",
       "2018-01-04 23:23:30+00:00                                NaN   \n",
       "2018-01-05 00:26:23+00:00                                NaN   \n",
       "\n",
       "                                                              outcome_object  \\\n",
       "datetime                                                                       \n",
       "2018-01-14 02:01:06+00:00  {'id': 'nothing', 'name': 'Nothing found - No ...   \n",
       "2018-01-04 16:12:02+00:00                             {'id': '', 'name': ''}   \n",
       "2018-01-04 23:23:30+00:00  {'id': 'nothing', 'name': 'Nothing found - No ...   \n",
       "2018-01-04 23:23:30+00:00  {'id': 'nothing', 'name': 'Nothing found - No ...   \n",
       "2018-01-05 00:26:23+00:00  {'id': 'nothing', 'name': 'Nothing found - No ...   \n",
       "\n",
       "                          removal_of_more_than_outer_clothing  \\\n",
       "datetime                                                        \n",
       "2018-01-14 02:01:06+00:00                               False   \n",
       "2018-01-04 16:12:02+00:00                               False   \n",
       "2018-01-04 23:23:30+00:00                               False   \n",
       "2018-01-04 23:23:30+00:00                               False   \n",
       "2018-01-05 00:26:23+00:00                               False   \n",
       "\n",
       "                                                      self_defined_ethnicity  \\\n",
       "datetime                                                                       \n",
       "2018-01-14 02:01:06+00:00                                                NaN   \n",
       "2018-01-04 16:12:02+00:00                                                NaN   \n",
       "2018-01-04 23:23:30+00:00  White - English/Welsh/Scottish/Northern Irish/...   \n",
       "2018-01-04 23:23:30+00:00                                                NaN   \n",
       "2018-01-05 00:26:23+00:00        Other ethnic group - Any other ethnic group   \n",
       "\n",
       "                                    type              Force  \n",
       "datetime                                                     \n",
       "2018-01-14 02:01:06+00:00  Person search  avon-and-somerset  \n",
       "2018-01-04 16:12:02+00:00  Person search  avon-and-somerset  \n",
       "2018-01-04 23:23:30+00:00  Person search  avon-and-somerset  \n",
       "2018-01-04 23:23:30+00:00  Person search  avon-and-somerset  \n",
       "2018-01-05 00:26:23+00:00  Person search  avon-and-somerset  "
      ]
     },
     "execution_count": 62,
     "metadata": {},
     "output_type": "execute_result"
    }
   ],
   "source": [
    "Data['datetime'] = pd.to_datetime(Data['datetime'])\n",
    "Data.set_index('datetime', drop = True, inplace=True)\n",
    "Data.head()"
   ]
  },
  {
   "cell_type": "code",
   "execution_count": 137,
   "metadata": {},
   "outputs": [],
   "source": [
    "Data['year'] = Data.index.year\n",
    "Data['month'] = Data.index.month"
   ]
  },
  {
   "cell_type": "code",
   "execution_count": 140,
   "metadata": {},
   "outputs": [
    {
     "ename": "SyntaxError",
     "evalue": "invalid syntax (<ipython-input-140-0a88e1179be8>, line 8)",
     "output_type": "error",
     "traceback": [
      "\u001b[1;36m  File \u001b[1;32m\"<ipython-input-140-0a88e1179be8>\"\u001b[1;36m, line \u001b[1;32m8\u001b[0m\n\u001b[1;33m    pd.concat(grouped_list, axis=1).plot(kind='bar', stacked=True, rot=0, figsize=(6,6), cmap=plt.cm.rainbow)\u001b[0m\n\u001b[1;37m     ^\u001b[0m\n\u001b[1;31mSyntaxError\u001b[0m\u001b[1;31m:\u001b[0m invalid syntax\n"
     ]
    }
   ],
   "source": [
    "Data.groupby('month')['gender'].value_counts()"
   ]
  },
  {
   "cell_type": "code",
   "execution_count": 148,
   "metadata": {},
   "outputs": [
    {
     "data": {
      "text/plain": [
       "<matplotlib.axes._subplots.AxesSubplot at 0x1ada2049860>"
      ]
     },
     "execution_count": 148,
     "metadata": {},
     "output_type": "execute_result"
    },
    {
     "data": {
      "image/png": "[encoded data removed]",
      "text/plain": [
       "<Figure size 432x288 with 1 Axes>"
      ]
     },
     "metadata": {
      "needs_background": "light"
     },
     "output_type": "display_data"
    }
   ],
   "source": [
    "Data['gender'].value_counts().plot(kind='bar', stacked=True)"
   ]
  }
 ],
 "metadata": {
  "kernelspec": {
   "display_name": "Python 3",
   "language": "python",
   "name": "python3"
  },
  "language_info": {
   "codemirror_mode": {
    "name": "ipython",
    "version": 3
   },
   "file_extension": ".py",
   "mimetype": "text/x-python",
   "name": "python",
   "nbconvert_exporter": "python",
   "pygments_lexer": "ipython3",
   "version": "3.7.3"
  }
 },
 "nbformat": 4,
 "nbformat_minor": 2
}
